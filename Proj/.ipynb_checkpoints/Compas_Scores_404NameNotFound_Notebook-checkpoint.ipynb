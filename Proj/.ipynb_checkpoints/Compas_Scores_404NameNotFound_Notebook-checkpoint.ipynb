{
 "cells": [
  {
   "cell_type": "markdown",
   "id": "d77a25b3-b905-4834-987c-dd35e347d225",
   "metadata": {},
   "source": [
    "*Project Dataset, **Data Mining** Course.* \\\n",
    "*Master Degree in Artificial Intelligence and Computer Science.* \\\n",
    "\\\n",
    "Group **404 Name Not Found**\n",
    "+ Canonaco Martina [231874]\n",
    "+ Gabriele Giada [235799]\n",
    "+ Gena Davide [231873]\n",
    "+ Morello Michele [223953]\n",
    "___"
   ]
  },
  {
   "cell_type": "markdown",
   "id": "8cda0e48-84c3-4e24-83cb-aef5ec305290",
   "metadata": {},
   "source": [
    "## How many data points and features?"
   ]
  },
  {
   "cell_type": "code",
   "execution_count": 1,
   "id": "86480b2c-993a-4c23-a2ef-b942738514f5",
   "metadata": {},
   "outputs": [],
   "source": [
    "import pandas as pd\n",
    "import matplotlib.pyplot as plt\n",
    "import seaborn as sn\n",
    "plt.style.use('ggplot')"
   ]
  },
  {
   "cell_type": "code",
   "execution_count": 2,
   "id": "0b05fb87-63c4-4bd7-a409-39ba73ba3aba",
   "metadata": {},
   "outputs": [],
   "source": [
    "dt = pd.read_csv('compas-scores.csv', sep=',')"
   ]
  },
  {
   "cell_type": "code",
   "execution_count": 3,
   "id": "14d93445-57b8-49f9-96d0-523f47c97e4c",
   "metadata": {},
   "outputs": [
    {
     "data": {
      "text/html": [
       "<div>\n",
       "<style scoped>\n",
       "    .dataframe tbody tr th:only-of-type {\n",
       "        vertical-align: middle;\n",
       "    }\n",
       "\n",
       "    .dataframe tbody tr th {\n",
       "        vertical-align: top;\n",
       "    }\n",
       "\n",
       "    .dataframe thead th {\n",
       "        text-align: right;\n",
       "    }\n",
       "</style>\n",
       "<table border=\"1\" class=\"dataframe\">\n",
       "  <thead>\n",
       "    <tr style=\"text-align: right;\">\n",
       "      <th></th>\n",
       "      <th>id</th>\n",
       "      <th>name</th>\n",
       "      <th>first</th>\n",
       "      <th>last</th>\n",
       "      <th>compas_screening_date</th>\n",
       "      <th>sex</th>\n",
       "      <th>dob</th>\n",
       "      <th>age</th>\n",
       "      <th>age_cat</th>\n",
       "      <th>race</th>\n",
       "      <th>...</th>\n",
       "      <th>vr_offense_date</th>\n",
       "      <th>vr_charge_desc</th>\n",
       "      <th>v_type_of_assessment</th>\n",
       "      <th>v_decile_score</th>\n",
       "      <th>v_score_text</th>\n",
       "      <th>v_screening_date</th>\n",
       "      <th>type_of_assessment</th>\n",
       "      <th>decile_score.1</th>\n",
       "      <th>score_text</th>\n",
       "      <th>screening_date</th>\n",
       "    </tr>\n",
       "  </thead>\n",
       "  <tbody>\n",
       "    <tr>\n",
       "      <th>0</th>\n",
       "      <td>1</td>\n",
       "      <td>miguel hernandez</td>\n",
       "      <td>miguel</td>\n",
       "      <td>hernandez</td>\n",
       "      <td>2013-08-14</td>\n",
       "      <td>Male</td>\n",
       "      <td>1947-04-18</td>\n",
       "      <td>69</td>\n",
       "      <td>Greater than 45</td>\n",
       "      <td>Other</td>\n",
       "      <td>...</td>\n",
       "      <td>NaN</td>\n",
       "      <td>NaN</td>\n",
       "      <td>Risk of Violence</td>\n",
       "      <td>1</td>\n",
       "      <td>Low</td>\n",
       "      <td>2013-08-14</td>\n",
       "      <td>Risk of Recidivism</td>\n",
       "      <td>1</td>\n",
       "      <td>Low</td>\n",
       "      <td>2013-08-14</td>\n",
       "    </tr>\n",
       "    <tr>\n",
       "      <th>1</th>\n",
       "      <td>2</td>\n",
       "      <td>michael ryan</td>\n",
       "      <td>michael</td>\n",
       "      <td>ryan</td>\n",
       "      <td>2014-12-31</td>\n",
       "      <td>Male</td>\n",
       "      <td>1985-02-06</td>\n",
       "      <td>31</td>\n",
       "      <td>25 - 45</td>\n",
       "      <td>Caucasian</td>\n",
       "      <td>...</td>\n",
       "      <td>NaN</td>\n",
       "      <td>NaN</td>\n",
       "      <td>Risk of Violence</td>\n",
       "      <td>2</td>\n",
       "      <td>Low</td>\n",
       "      <td>2014-12-31</td>\n",
       "      <td>Risk of Recidivism</td>\n",
       "      <td>5</td>\n",
       "      <td>Medium</td>\n",
       "      <td>2014-12-31</td>\n",
       "    </tr>\n",
       "    <tr>\n",
       "      <th>2</th>\n",
       "      <td>3</td>\n",
       "      <td>kevon dixon</td>\n",
       "      <td>kevon</td>\n",
       "      <td>dixon</td>\n",
       "      <td>2013-01-27</td>\n",
       "      <td>Male</td>\n",
       "      <td>1982-01-22</td>\n",
       "      <td>34</td>\n",
       "      <td>25 - 45</td>\n",
       "      <td>African-American</td>\n",
       "      <td>...</td>\n",
       "      <td>2013-07-05</td>\n",
       "      <td>Felony Battery (Dom Strang)</td>\n",
       "      <td>Risk of Violence</td>\n",
       "      <td>1</td>\n",
       "      <td>Low</td>\n",
       "      <td>2013-01-27</td>\n",
       "      <td>Risk of Recidivism</td>\n",
       "      <td>3</td>\n",
       "      <td>Low</td>\n",
       "      <td>2013-01-27</td>\n",
       "    </tr>\n",
       "    <tr>\n",
       "      <th>3</th>\n",
       "      <td>4</td>\n",
       "      <td>ed philo</td>\n",
       "      <td>ed</td>\n",
       "      <td>philo</td>\n",
       "      <td>2013-04-14</td>\n",
       "      <td>Male</td>\n",
       "      <td>1991-05-14</td>\n",
       "      <td>24</td>\n",
       "      <td>Less than 25</td>\n",
       "      <td>African-American</td>\n",
       "      <td>...</td>\n",
       "      <td>NaN</td>\n",
       "      <td>NaN</td>\n",
       "      <td>Risk of Violence</td>\n",
       "      <td>3</td>\n",
       "      <td>Low</td>\n",
       "      <td>2013-04-14</td>\n",
       "      <td>Risk of Recidivism</td>\n",
       "      <td>4</td>\n",
       "      <td>Low</td>\n",
       "      <td>2013-04-14</td>\n",
       "    </tr>\n",
       "    <tr>\n",
       "      <th>4</th>\n",
       "      <td>5</td>\n",
       "      <td>marcu brown</td>\n",
       "      <td>marcu</td>\n",
       "      <td>brown</td>\n",
       "      <td>2013-01-13</td>\n",
       "      <td>Male</td>\n",
       "      <td>1993-01-21</td>\n",
       "      <td>23</td>\n",
       "      <td>Less than 25</td>\n",
       "      <td>African-American</td>\n",
       "      <td>...</td>\n",
       "      <td>NaN</td>\n",
       "      <td>NaN</td>\n",
       "      <td>Risk of Violence</td>\n",
       "      <td>6</td>\n",
       "      <td>Medium</td>\n",
       "      <td>2013-01-13</td>\n",
       "      <td>Risk of Recidivism</td>\n",
       "      <td>8</td>\n",
       "      <td>High</td>\n",
       "      <td>2013-01-13</td>\n",
       "    </tr>\n",
       "    <tr>\n",
       "      <th>...</th>\n",
       "      <td>...</td>\n",
       "      <td>...</td>\n",
       "      <td>...</td>\n",
       "      <td>...</td>\n",
       "      <td>...</td>\n",
       "      <td>...</td>\n",
       "      <td>...</td>\n",
       "      <td>...</td>\n",
       "      <td>...</td>\n",
       "      <td>...</td>\n",
       "      <td>...</td>\n",
       "      <td>...</td>\n",
       "      <td>...</td>\n",
       "      <td>...</td>\n",
       "      <td>...</td>\n",
       "      <td>...</td>\n",
       "      <td>...</td>\n",
       "      <td>...</td>\n",
       "      <td>...</td>\n",
       "      <td>...</td>\n",
       "      <td>...</td>\n",
       "    </tr>\n",
       "    <tr>\n",
       "      <th>11752</th>\n",
       "      <td>11753</td>\n",
       "      <td>patrick hamilton</td>\n",
       "      <td>patrick</td>\n",
       "      <td>hamilton</td>\n",
       "      <td>2013-09-22</td>\n",
       "      <td>Male</td>\n",
       "      <td>1968-05-02</td>\n",
       "      <td>47</td>\n",
       "      <td>Greater than 45</td>\n",
       "      <td>Other</td>\n",
       "      <td>...</td>\n",
       "      <td>NaN</td>\n",
       "      <td>NaN</td>\n",
       "      <td>Risk of Violence</td>\n",
       "      <td>1</td>\n",
       "      <td>Low</td>\n",
       "      <td>2013-09-22</td>\n",
       "      <td>Risk of Recidivism</td>\n",
       "      <td>3</td>\n",
       "      <td>Low</td>\n",
       "      <td>2013-09-22</td>\n",
       "    </tr>\n",
       "    <tr>\n",
       "      <th>11753</th>\n",
       "      <td>11754</td>\n",
       "      <td>raymond hernandez</td>\n",
       "      <td>raymond</td>\n",
       "      <td>hernandez</td>\n",
       "      <td>2013-05-17</td>\n",
       "      <td>Male</td>\n",
       "      <td>1993-06-24</td>\n",
       "      <td>22</td>\n",
       "      <td>Less than 25</td>\n",
       "      <td>Caucasian</td>\n",
       "      <td>...</td>\n",
       "      <td>NaN</td>\n",
       "      <td>NaN</td>\n",
       "      <td>Risk of Violence</td>\n",
       "      <td>5</td>\n",
       "      <td>Medium</td>\n",
       "      <td>2013-05-17</td>\n",
       "      <td>Risk of Recidivism</td>\n",
       "      <td>7</td>\n",
       "      <td>Medium</td>\n",
       "      <td>2013-05-17</td>\n",
       "    </tr>\n",
       "    <tr>\n",
       "      <th>11754</th>\n",
       "      <td>11755</td>\n",
       "      <td>dieuseul pierre-gilles</td>\n",
       "      <td>dieuseul</td>\n",
       "      <td>pierre-gilles</td>\n",
       "      <td>2014-10-08</td>\n",
       "      <td>Male</td>\n",
       "      <td>1981-01-24</td>\n",
       "      <td>35</td>\n",
       "      <td>25 - 45</td>\n",
       "      <td>Other</td>\n",
       "      <td>...</td>\n",
       "      <td>NaN</td>\n",
       "      <td>NaN</td>\n",
       "      <td>Risk of Violence</td>\n",
       "      <td>3</td>\n",
       "      <td>Low</td>\n",
       "      <td>2014-10-08</td>\n",
       "      <td>Risk of Recidivism</td>\n",
       "      <td>4</td>\n",
       "      <td>Low</td>\n",
       "      <td>2014-10-08</td>\n",
       "    </tr>\n",
       "    <tr>\n",
       "      <th>11755</th>\n",
       "      <td>11756</td>\n",
       "      <td>scott lomagistro</td>\n",
       "      <td>scott</td>\n",
       "      <td>lomagistro</td>\n",
       "      <td>2013-12-03</td>\n",
       "      <td>Male</td>\n",
       "      <td>1986-12-04</td>\n",
       "      <td>29</td>\n",
       "      <td>25 - 45</td>\n",
       "      <td>Caucasian</td>\n",
       "      <td>...</td>\n",
       "      <td>NaN</td>\n",
       "      <td>NaN</td>\n",
       "      <td>Risk of Violence</td>\n",
       "      <td>2</td>\n",
       "      <td>Low</td>\n",
       "      <td>2013-12-03</td>\n",
       "      <td>Risk of Recidivism</td>\n",
       "      <td>3</td>\n",
       "      <td>Low</td>\n",
       "      <td>2013-12-03</td>\n",
       "    </tr>\n",
       "    <tr>\n",
       "      <th>11756</th>\n",
       "      <td>11757</td>\n",
       "      <td>chin yan</td>\n",
       "      <td>chin</td>\n",
       "      <td>yan</td>\n",
       "      <td>2014-01-11</td>\n",
       "      <td>Male</td>\n",
       "      <td>1982-02-19</td>\n",
       "      <td>34</td>\n",
       "      <td>25 - 45</td>\n",
       "      <td>Asian</td>\n",
       "      <td>...</td>\n",
       "      <td>NaN</td>\n",
       "      <td>NaN</td>\n",
       "      <td>Risk of Violence</td>\n",
       "      <td>1</td>\n",
       "      <td>Low</td>\n",
       "      <td>2014-01-11</td>\n",
       "      <td>Risk of Recidivism</td>\n",
       "      <td>1</td>\n",
       "      <td>Low</td>\n",
       "      <td>2014-01-11</td>\n",
       "    </tr>\n",
       "  </tbody>\n",
       "</table>\n",
       "<p>11757 rows × 47 columns</p>\n",
       "</div>"
      ],
      "text/plain": [
       "          id                    name     first           last  \\\n",
       "0          1        miguel hernandez    miguel      hernandez   \n",
       "1          2            michael ryan   michael           ryan   \n",
       "2          3             kevon dixon     kevon          dixon   \n",
       "3          4                ed philo        ed          philo   \n",
       "4          5             marcu brown     marcu          brown   \n",
       "...      ...                     ...       ...            ...   \n",
       "11752  11753        patrick hamilton   patrick       hamilton   \n",
       "11753  11754       raymond hernandez   raymond      hernandez   \n",
       "11754  11755  dieuseul pierre-gilles  dieuseul  pierre-gilles   \n",
       "11755  11756        scott lomagistro     scott     lomagistro   \n",
       "11756  11757                chin yan      chin            yan   \n",
       "\n",
       "      compas_screening_date   sex         dob  age          age_cat  \\\n",
       "0                2013-08-14  Male  1947-04-18   69  Greater than 45   \n",
       "1                2014-12-31  Male  1985-02-06   31          25 - 45   \n",
       "2                2013-01-27  Male  1982-01-22   34          25 - 45   \n",
       "3                2013-04-14  Male  1991-05-14   24     Less than 25   \n",
       "4                2013-01-13  Male  1993-01-21   23     Less than 25   \n",
       "...                     ...   ...         ...  ...              ...   \n",
       "11752            2013-09-22  Male  1968-05-02   47  Greater than 45   \n",
       "11753            2013-05-17  Male  1993-06-24   22     Less than 25   \n",
       "11754            2014-10-08  Male  1981-01-24   35          25 - 45   \n",
       "11755            2013-12-03  Male  1986-12-04   29          25 - 45   \n",
       "11756            2014-01-11  Male  1982-02-19   34          25 - 45   \n",
       "\n",
       "                   race  ...  vr_offense_date               vr_charge_desc  \\\n",
       "0                 Other  ...              NaN                          NaN   \n",
       "1             Caucasian  ...              NaN                          NaN   \n",
       "2      African-American  ...       2013-07-05  Felony Battery (Dom Strang)   \n",
       "3      African-American  ...              NaN                          NaN   \n",
       "4      African-American  ...              NaN                          NaN   \n",
       "...                 ...  ...              ...                          ...   \n",
       "11752             Other  ...              NaN                          NaN   \n",
       "11753         Caucasian  ...              NaN                          NaN   \n",
       "11754             Other  ...              NaN                          NaN   \n",
       "11755         Caucasian  ...              NaN                          NaN   \n",
       "11756             Asian  ...              NaN                          NaN   \n",
       "\n",
       "       v_type_of_assessment  v_decile_score  v_score_text  v_screening_date  \\\n",
       "0          Risk of Violence               1           Low        2013-08-14   \n",
       "1          Risk of Violence               2           Low        2014-12-31   \n",
       "2          Risk of Violence               1           Low        2013-01-27   \n",
       "3          Risk of Violence               3           Low        2013-04-14   \n",
       "4          Risk of Violence               6        Medium        2013-01-13   \n",
       "...                     ...             ...           ...               ...   \n",
       "11752      Risk of Violence               1           Low        2013-09-22   \n",
       "11753      Risk of Violence               5        Medium        2013-05-17   \n",
       "11754      Risk of Violence               3           Low        2014-10-08   \n",
       "11755      Risk of Violence               2           Low        2013-12-03   \n",
       "11756      Risk of Violence               1           Low        2014-01-11   \n",
       "\n",
       "       type_of_assessment decile_score.1 score_text screening_date  \n",
       "0      Risk of Recidivism              1        Low     2013-08-14  \n",
       "1      Risk of Recidivism              5     Medium     2014-12-31  \n",
       "2      Risk of Recidivism              3        Low     2013-01-27  \n",
       "3      Risk of Recidivism              4        Low     2013-04-14  \n",
       "4      Risk of Recidivism              8       High     2013-01-13  \n",
       "...                   ...            ...        ...            ...  \n",
       "11752  Risk of Recidivism              3        Low     2013-09-22  \n",
       "11753  Risk of Recidivism              7     Medium     2013-05-17  \n",
       "11754  Risk of Recidivism              4        Low     2014-10-08  \n",
       "11755  Risk of Recidivism              3        Low     2013-12-03  \n",
       "11756  Risk of Recidivism              1        Low     2014-01-11  \n",
       "\n",
       "[11757 rows x 47 columns]"
      ]
     },
     "execution_count": 3,
     "metadata": {},
     "output_type": "execute_result"
    }
   ],
   "source": [
    "dt"
   ]
  },
  {
   "cell_type": "code",
   "execution_count": 4,
   "id": "ed22d6ad-7ead-4074-bca4-be04f61f5829",
   "metadata": {},
   "outputs": [
    {
     "name": "stdout",
     "output_type": "stream",
     "text": [
      "<class 'pandas.core.frame.DataFrame'>\n",
      "RangeIndex: 11757 entries, 0 to 11756\n",
      "Data columns (total 47 columns):\n",
      " #   Column                   Non-Null Count  Dtype  \n",
      "---  ------                   --------------  -----  \n",
      " 0   id                       11757 non-null  int64  \n",
      " 1   name                     11757 non-null  object \n",
      " 2   first                    11757 non-null  object \n",
      " 3   last                     11757 non-null  object \n",
      " 4   compas_screening_date    11757 non-null  object \n",
      " 5   sex                      11757 non-null  object \n",
      " 6   dob                      11757 non-null  object \n",
      " 7   age                      11757 non-null  int64  \n",
      " 8   age_cat                  11757 non-null  object \n",
      " 9   race                     11757 non-null  object \n",
      " 10  juv_fel_count            11757 non-null  int64  \n",
      " 11  decile_score             11757 non-null  int64  \n",
      " 12  juv_misd_count           11757 non-null  int64  \n",
      " 13  juv_other_count          11757 non-null  int64  \n",
      " 14  priors_count             11757 non-null  int64  \n",
      " 15  days_b_screening_arrest  10577 non-null  float64\n",
      " 16  c_jail_in                10577 non-null  object \n",
      " 17  c_jail_out               10577 non-null  object \n",
      " 18  c_case_number            11015 non-null  object \n",
      " 19  c_offense_date           9157 non-null   object \n",
      " 20  c_arrest_date            1858 non-null   object \n",
      " 21  c_days_from_compas       11015 non-null  float64\n",
      " 22  c_charge_degree          11757 non-null  object \n",
      " 23  c_charge_desc            11008 non-null  object \n",
      " 24  is_recid                 11757 non-null  int64  \n",
      " 25  num_r_cases              0 non-null      float64\n",
      " 26  r_case_number            3703 non-null   object \n",
      " 27  r_charge_degree          11757 non-null  object \n",
      " 28  r_days_from_arrest       2460 non-null   float64\n",
      " 29  r_offense_date           3703 non-null   object \n",
      " 30  r_charge_desc            3643 non-null   object \n",
      " 31  r_jail_in                2460 non-null   object \n",
      " 32  r_jail_out               2460 non-null   object \n",
      " 33  is_violent_recid         11757 non-null  int64  \n",
      " 34  num_vr_cases             0 non-null      float64\n",
      " 35  vr_case_number           882 non-null    object \n",
      " 36  vr_charge_degree         882 non-null    object \n",
      " 37  vr_offense_date          882 non-null    object \n",
      " 38  vr_charge_desc           882 non-null    object \n",
      " 39  v_type_of_assessment     11757 non-null  object \n",
      " 40  v_decile_score           11757 non-null  int64  \n",
      " 41  v_score_text             11752 non-null  object \n",
      " 42  v_screening_date         11757 non-null  object \n",
      " 43  type_of_assessment       11757 non-null  object \n",
      " 44  decile_score.1           11757 non-null  int64  \n",
      " 45  score_text               11742 non-null  object \n",
      " 46  screening_date           11757 non-null  object \n",
      "dtypes: float64(5), int64(11), object(31)\n",
      "memory usage: 4.2+ MB\n"
     ]
    }
   ],
   "source": [
    "dt.info()"
   ]
  },
  {
   "cell_type": "markdown",
   "id": "25b20c59-c05b-4f03-88df-3d5d0baad28b",
   "metadata": {},
   "source": [
    "## What are the column names?"
   ]
  },
  {
   "cell_type": "code",
   "execution_count": 5,
   "id": "f82e84fd-2e54-4077-baef-290ef6afb9c3",
   "metadata": {},
   "outputs": [
    {
     "data": {
      "text/plain": [
       "Index(['id', 'name', 'first', 'last', 'compas_screening_date', 'sex', 'dob',\n",
       "       'age', 'age_cat', 'race', 'juv_fel_count', 'decile_score',\n",
       "       'juv_misd_count', 'juv_other_count', 'priors_count',\n",
       "       'days_b_screening_arrest', 'c_jail_in', 'c_jail_out', 'c_case_number',\n",
       "       'c_offense_date', 'c_arrest_date', 'c_days_from_compas',\n",
       "       'c_charge_degree', 'c_charge_desc', 'is_recid', 'num_r_cases',\n",
       "       'r_case_number', 'r_charge_degree', 'r_days_from_arrest',\n",
       "       'r_offense_date', 'r_charge_desc', 'r_jail_in', 'r_jail_out',\n",
       "       'is_violent_recid', 'num_vr_cases', 'vr_case_number',\n",
       "       'vr_charge_degree', 'vr_offense_date', 'vr_charge_desc',\n",
       "       'v_type_of_assessment', 'v_decile_score', 'v_score_text',\n",
       "       'v_screening_date', 'type_of_assessment', 'decile_score.1',\n",
       "       'score_text', 'screening_date'],\n",
       "      dtype='object')"
      ]
     },
     "execution_count": 5,
     "metadata": {},
     "output_type": "execute_result"
    }
   ],
   "source": [
    "dt.columns"
   ]
  },
  {
   "cell_type": "markdown",
   "id": "06bec9da-ce5e-4916-9a00-0083ae9a0086",
   "metadata": {},
   "source": [
    "## How many elements?"
   ]
  },
  {
   "cell_type": "code",
   "execution_count": 6,
   "id": "42965514-878e-4e91-8f6d-d5944ca02db2",
   "metadata": {},
   "outputs": [
    {
     "data": {
      "text/plain": [
       "552579"
      ]
     },
     "execution_count": 6,
     "metadata": {},
     "output_type": "execute_result"
    }
   ],
   "source": [
    "dt.size"
   ]
  },
  {
   "cell_type": "markdown",
   "id": "df1b5d94-93f6-4afd-9281-b53c6d834c8f",
   "metadata": {},
   "source": [
    "## Attribute Types"
   ]
  },
  {
   "cell_type": "code",
   "execution_count": 7,
   "id": "ec1f2fcc-e05c-4db8-bb8c-901d77179fba",
   "metadata": {},
   "outputs": [
    {
     "data": {
      "text/plain": [
       "id                           int64\n",
       "name                        object\n",
       "first                       object\n",
       "last                        object\n",
       "compas_screening_date       object\n",
       "sex                         object\n",
       "dob                         object\n",
       "age                          int64\n",
       "age_cat                     object\n",
       "race                        object\n",
       "juv_fel_count                int64\n",
       "decile_score                 int64\n",
       "juv_misd_count               int64\n",
       "juv_other_count              int64\n",
       "priors_count                 int64\n",
       "days_b_screening_arrest    float64\n",
       "c_jail_in                   object\n",
       "c_jail_out                  object\n",
       "c_case_number               object\n",
       "c_offense_date              object\n",
       "c_arrest_date               object\n",
       "c_days_from_compas         float64\n",
       "c_charge_degree             object\n",
       "c_charge_desc               object\n",
       "is_recid                     int64\n",
       "num_r_cases                float64\n",
       "r_case_number               object\n",
       "r_charge_degree             object\n",
       "r_days_from_arrest         float64\n",
       "r_offense_date              object\n",
       "r_charge_desc               object\n",
       "r_jail_in                   object\n",
       "r_jail_out                  object\n",
       "is_violent_recid             int64\n",
       "num_vr_cases               float64\n",
       "vr_case_number              object\n",
       "vr_charge_degree            object\n",
       "vr_offense_date             object\n",
       "vr_charge_desc              object\n",
       "v_type_of_assessment        object\n",
       "v_decile_score               int64\n",
       "v_score_text                object\n",
       "v_screening_date            object\n",
       "type_of_assessment          object\n",
       "decile_score.1               int64\n",
       "score_text                  object\n",
       "screening_date              object\n",
       "dtype: object"
      ]
     },
     "execution_count": 7,
     "metadata": {},
     "output_type": "execute_result"
    }
   ],
   "source": [
    "dt.dtypes"
   ]
  },
  {
   "cell_type": "markdown",
   "id": "d36cda79-3a12-4300-902e-cff553803bf3",
   "metadata": {},
   "source": [
    "## Statistics"
   ]
  },
  {
   "cell_type": "code",
   "execution_count": 8,
   "id": "5558a7e3-f76f-4873-a20d-13382a5efee1",
   "metadata": {},
   "outputs": [
    {
     "data": {
      "text/html": [
       "<div>\n",
       "<style scoped>\n",
       "    .dataframe tbody tr th:only-of-type {\n",
       "        vertical-align: middle;\n",
       "    }\n",
       "\n",
       "    .dataframe tbody tr th {\n",
       "        vertical-align: top;\n",
       "    }\n",
       "\n",
       "    .dataframe thead th {\n",
       "        text-align: right;\n",
       "    }\n",
       "</style>\n",
       "<table border=\"1\" class=\"dataframe\">\n",
       "  <thead>\n",
       "    <tr style=\"text-align: right;\">\n",
       "      <th></th>\n",
       "      <th>id</th>\n",
       "      <th>age</th>\n",
       "      <th>juv_fel_count</th>\n",
       "      <th>decile_score</th>\n",
       "      <th>juv_misd_count</th>\n",
       "      <th>juv_other_count</th>\n",
       "      <th>priors_count</th>\n",
       "      <th>days_b_screening_arrest</th>\n",
       "      <th>c_days_from_compas</th>\n",
       "      <th>is_recid</th>\n",
       "      <th>num_r_cases</th>\n",
       "      <th>r_days_from_arrest</th>\n",
       "      <th>is_violent_recid</th>\n",
       "      <th>num_vr_cases</th>\n",
       "      <th>v_decile_score</th>\n",
       "      <th>decile_score.1</th>\n",
       "    </tr>\n",
       "  </thead>\n",
       "  <tbody>\n",
       "    <tr>\n",
       "      <th>count</th>\n",
       "      <td>11757.000000</td>\n",
       "      <td>11757.000000</td>\n",
       "      <td>11757.000000</td>\n",
       "      <td>11757.000000</td>\n",
       "      <td>11757.000000</td>\n",
       "      <td>11757.000000</td>\n",
       "      <td>11757.000000</td>\n",
       "      <td>10577.000000</td>\n",
       "      <td>11015.000000</td>\n",
       "      <td>11757.000000</td>\n",
       "      <td>0.0</td>\n",
       "      <td>2460.000000</td>\n",
       "      <td>11757.000000</td>\n",
       "      <td>0.0</td>\n",
       "      <td>11757.000000</td>\n",
       "      <td>11757.000000</td>\n",
       "    </tr>\n",
       "    <tr>\n",
       "      <th>mean</th>\n",
       "      <td>5879.000000</td>\n",
       "      <td>35.143319</td>\n",
       "      <td>0.061580</td>\n",
       "      <td>4.371268</td>\n",
       "      <td>0.076040</td>\n",
       "      <td>0.093561</td>\n",
       "      <td>3.082164</td>\n",
       "      <td>-0.878037</td>\n",
       "      <td>63.587653</td>\n",
       "      <td>0.253806</td>\n",
       "      <td>NaN</td>\n",
       "      <td>20.410569</td>\n",
       "      <td>0.075019</td>\n",
       "      <td>NaN</td>\n",
       "      <td>3.571489</td>\n",
       "      <td>4.371268</td>\n",
       "    </tr>\n",
       "    <tr>\n",
       "      <th>std</th>\n",
       "      <td>3394.097892</td>\n",
       "      <td>12.022894</td>\n",
       "      <td>0.445328</td>\n",
       "      <td>2.877598</td>\n",
       "      <td>0.449757</td>\n",
       "      <td>0.472003</td>\n",
       "      <td>4.687410</td>\n",
       "      <td>72.889298</td>\n",
       "      <td>341.899711</td>\n",
       "      <td>0.558324</td>\n",
       "      <td>NaN</td>\n",
       "      <td>74.354840</td>\n",
       "      <td>0.263433</td>\n",
       "      <td>NaN</td>\n",
       "      <td>2.500479</td>\n",
       "      <td>2.877598</td>\n",
       "    </tr>\n",
       "    <tr>\n",
       "      <th>min</th>\n",
       "      <td>1.000000</td>\n",
       "      <td>18.000000</td>\n",
       "      <td>0.000000</td>\n",
       "      <td>-1.000000</td>\n",
       "      <td>0.000000</td>\n",
       "      <td>0.000000</td>\n",
       "      <td>0.000000</td>\n",
       "      <td>-597.000000</td>\n",
       "      <td>0.000000</td>\n",
       "      <td>-1.000000</td>\n",
       "      <td>NaN</td>\n",
       "      <td>-1.000000</td>\n",
       "      <td>0.000000</td>\n",
       "      <td>NaN</td>\n",
       "      <td>-1.000000</td>\n",
       "      <td>-1.000000</td>\n",
       "    </tr>\n",
       "    <tr>\n",
       "      <th>25%</th>\n",
       "      <td>2940.000000</td>\n",
       "      <td>25.000000</td>\n",
       "      <td>0.000000</td>\n",
       "      <td>2.000000</td>\n",
       "      <td>0.000000</td>\n",
       "      <td>0.000000</td>\n",
       "      <td>0.000000</td>\n",
       "      <td>-1.000000</td>\n",
       "      <td>1.000000</td>\n",
       "      <td>0.000000</td>\n",
       "      <td>NaN</td>\n",
       "      <td>0.000000</td>\n",
       "      <td>0.000000</td>\n",
       "      <td>NaN</td>\n",
       "      <td>1.000000</td>\n",
       "      <td>2.000000</td>\n",
       "    </tr>\n",
       "    <tr>\n",
       "      <th>50%</th>\n",
       "      <td>5879.000000</td>\n",
       "      <td>32.000000</td>\n",
       "      <td>0.000000</td>\n",
       "      <td>4.000000</td>\n",
       "      <td>0.000000</td>\n",
       "      <td>0.000000</td>\n",
       "      <td>1.000000</td>\n",
       "      <td>-1.000000</td>\n",
       "      <td>1.000000</td>\n",
       "      <td>0.000000</td>\n",
       "      <td>NaN</td>\n",
       "      <td>0.000000</td>\n",
       "      <td>0.000000</td>\n",
       "      <td>NaN</td>\n",
       "      <td>3.000000</td>\n",
       "      <td>4.000000</td>\n",
       "    </tr>\n",
       "    <tr>\n",
       "      <th>75%</th>\n",
       "      <td>8818.000000</td>\n",
       "      <td>43.000000</td>\n",
       "      <td>0.000000</td>\n",
       "      <td>7.000000</td>\n",
       "      <td>0.000000</td>\n",
       "      <td>0.000000</td>\n",
       "      <td>4.000000</td>\n",
       "      <td>-1.000000</td>\n",
       "      <td>2.000000</td>\n",
       "      <td>1.000000</td>\n",
       "      <td>NaN</td>\n",
       "      <td>1.000000</td>\n",
       "      <td>0.000000</td>\n",
       "      <td>NaN</td>\n",
       "      <td>5.000000</td>\n",
       "      <td>7.000000</td>\n",
       "    </tr>\n",
       "    <tr>\n",
       "      <th>max</th>\n",
       "      <td>11757.000000</td>\n",
       "      <td>96.000000</td>\n",
       "      <td>20.000000</td>\n",
       "      <td>10.000000</td>\n",
       "      <td>13.000000</td>\n",
       "      <td>17.000000</td>\n",
       "      <td>43.000000</td>\n",
       "      <td>1057.000000</td>\n",
       "      <td>9485.000000</td>\n",
       "      <td>1.000000</td>\n",
       "      <td>NaN</td>\n",
       "      <td>993.000000</td>\n",
       "      <td>1.000000</td>\n",
       "      <td>NaN</td>\n",
       "      <td>10.000000</td>\n",
       "      <td>10.000000</td>\n",
       "    </tr>\n",
       "  </tbody>\n",
       "</table>\n",
       "</div>"
      ],
      "text/plain": [
       "                 id           age  juv_fel_count  decile_score  \\\n",
       "count  11757.000000  11757.000000   11757.000000  11757.000000   \n",
       "mean    5879.000000     35.143319       0.061580      4.371268   \n",
       "std     3394.097892     12.022894       0.445328      2.877598   \n",
       "min        1.000000     18.000000       0.000000     -1.000000   \n",
       "25%     2940.000000     25.000000       0.000000      2.000000   \n",
       "50%     5879.000000     32.000000       0.000000      4.000000   \n",
       "75%     8818.000000     43.000000       0.000000      7.000000   \n",
       "max    11757.000000     96.000000      20.000000     10.000000   \n",
       "\n",
       "       juv_misd_count  juv_other_count  priors_count  days_b_screening_arrest  \\\n",
       "count    11757.000000     11757.000000  11757.000000             10577.000000   \n",
       "mean         0.076040         0.093561      3.082164                -0.878037   \n",
       "std          0.449757         0.472003      4.687410                72.889298   \n",
       "min          0.000000         0.000000      0.000000              -597.000000   \n",
       "25%          0.000000         0.000000      0.000000                -1.000000   \n",
       "50%          0.000000         0.000000      1.000000                -1.000000   \n",
       "75%          0.000000         0.000000      4.000000                -1.000000   \n",
       "max         13.000000        17.000000     43.000000              1057.000000   \n",
       "\n",
       "       c_days_from_compas      is_recid  num_r_cases  r_days_from_arrest  \\\n",
       "count        11015.000000  11757.000000          0.0         2460.000000   \n",
       "mean            63.587653      0.253806          NaN           20.410569   \n",
       "std            341.899711      0.558324          NaN           74.354840   \n",
       "min              0.000000     -1.000000          NaN           -1.000000   \n",
       "25%              1.000000      0.000000          NaN            0.000000   \n",
       "50%              1.000000      0.000000          NaN            0.000000   \n",
       "75%              2.000000      1.000000          NaN            1.000000   \n",
       "max           9485.000000      1.000000          NaN          993.000000   \n",
       "\n",
       "       is_violent_recid  num_vr_cases  v_decile_score  decile_score.1  \n",
       "count      11757.000000           0.0    11757.000000    11757.000000  \n",
       "mean           0.075019           NaN        3.571489        4.371268  \n",
       "std            0.263433           NaN        2.500479        2.877598  \n",
       "min            0.000000           NaN       -1.000000       -1.000000  \n",
       "25%            0.000000           NaN        1.000000        2.000000  \n",
       "50%            0.000000           NaN        3.000000        4.000000  \n",
       "75%            0.000000           NaN        5.000000        7.000000  \n",
       "max            1.000000           NaN       10.000000       10.000000  "
      ]
     },
     "execution_count": 8,
     "metadata": {},
     "output_type": "execute_result"
    }
   ],
   "source": [
    "dt.describe()"
   ]
  },
  {
   "cell_type": "markdown",
   "id": "ec7a349d-92ed-4ce1-ada8-aef5a5ab3703",
   "metadata": {},
   "source": [
    "## Is the dataset Balanced?"
   ]
  },
  {
   "cell_type": "code",
   "execution_count": 9,
   "id": "2770ca13-e76a-4df5-8e7f-e5e7b4f3821b",
   "metadata": {},
   "outputs": [
    {
     "data": {
      "text/plain": [
       "id                             0\n",
       "name                           0\n",
       "first                          0\n",
       "last                           0\n",
       "compas_screening_date          0\n",
       "sex                            0\n",
       "dob                            0\n",
       "age                            0\n",
       "age_cat                        0\n",
       "race                           0\n",
       "juv_fel_count                  0\n",
       "decile_score                   0\n",
       "juv_misd_count                 0\n",
       "juv_other_count                0\n",
       "priors_count                   0\n",
       "days_b_screening_arrest     1180\n",
       "c_jail_in                   1180\n",
       "c_jail_out                  1180\n",
       "c_case_number                742\n",
       "c_offense_date              2600\n",
       "c_arrest_date               9899\n",
       "c_days_from_compas           742\n",
       "c_charge_degree                0\n",
       "c_charge_desc                749\n",
       "is_recid                       0\n",
       "num_r_cases                11757\n",
       "r_case_number               8054\n",
       "r_charge_degree                0\n",
       "r_days_from_arrest          9297\n",
       "r_offense_date              8054\n",
       "r_charge_desc               8114\n",
       "r_jail_in                   9297\n",
       "r_jail_out                  9297\n",
       "is_violent_recid               0\n",
       "num_vr_cases               11757\n",
       "vr_case_number             10875\n",
       "vr_charge_degree           10875\n",
       "vr_offense_date            10875\n",
       "vr_charge_desc             10875\n",
       "v_type_of_assessment           0\n",
       "v_decile_score                 0\n",
       "v_score_text                   5\n",
       "v_screening_date               0\n",
       "type_of_assessment             0\n",
       "decile_score.1                 0\n",
       "score_text                    15\n",
       "screening_date                 0\n",
       "dtype: int64"
      ]
     },
     "execution_count": 9,
     "metadata": {},
     "output_type": "execute_result"
    }
   ],
   "source": [
    "dt.isnull().sum()"
   ]
  },
  {
   "cell_type": "markdown",
   "id": "74b5ec55-7bd7-49a5-ab4d-77a571c305dd",
   "metadata": {},
   "source": [
    "## Which is the distribution of the data?"
   ]
  },
  {
   "cell_type": "code",
   "execution_count": 10,
   "id": "81a033da-1d2f-45fe-9434-9e377e63dfce",
   "metadata": {},
   "outputs": [
    {
     "data": {
      "text/plain": [
       "<seaborn.axisgrid.FacetGrid at 0x1b675d506d0>"
      ]
     },
     "execution_count": 10,
     "metadata": {},
     "output_type": "execute_result"
    },
    {
     "data": {
      "image/png": "[encoded data removed]",
      "text/plain": [
       "<Figure size 360x360 with 1 Axes>"
      ]
     },
     "metadata": {},
     "output_type": "display_data"
    }
   ],
   "source": [
    "sn.displot(data=dt, x=\"age_cat\", kind=\"hist\", bins=20)"
   ]
  },
  {
   "cell_type": "code",
   "execution_count": 11,
   "id": "3410ad2e-7629-406e-bcdc-0c966d6dd6e9",
   "metadata": {},
   "outputs": [
    {
     "data": {
      "text/plain": [
       "<seaborn.axisgrid.FacetGrid at 0x1b675dd90d0>"
      ]
     },
     "execution_count": 11,
     "metadata": {},
     "output_type": "execute_result"
    },
    {
     "data": {
      "image/png": "[encoded data removed]",
      "text/plain": [
       "<Figure size 360x360 with 1 Axes>"
      ]
     },
     "metadata": {},
     "output_type": "display_data"
    }
   ],
   "source": [
    "sn.displot(data=dt, x=\"sex\", kind=\"hist\", bins=20)"
   ]
  },
  {
   "cell_type": "code",
   "execution_count": 12,
   "id": "adb83f8b-ceda-4952-8453-b6cb8f4a47b5",
   "metadata": {},
   "outputs": [
    {
     "data": {
      "text/plain": [
       "<seaborn.axisgrid.FacetGrid at 0x1b675e9eb80>"
      ]
     },
     "execution_count": 12,
     "metadata": {},
     "output_type": "execute_result"
    },
    {
     "data": {
      "image/png": "[encoded data removed]",
      "text/plain": [
       "<Figure size 360x360 with 1 Axes>"
      ]
     },
     "metadata": {},
     "output_type": "display_data"
    }
   ],
   "source": [
    "sn.displot(data=dt, x=\"race\", kind=\"hist\", bins=20)"
   ]
  },
  {
   "cell_type": "code",
   "execution_count": 15,
   "id": "65d5765b-ecf0-4586-b3b0-03b2b250e5a7",
   "metadata": {},
   "outputs": [
    {
     "data": {
      "text/plain": [
       "<seaborn.axisgrid.FacetGrid at 0x1b675d5ad00>"
      ]
     },
     "execution_count": 15,
     "metadata": {},
     "output_type": "execute_result"
    },
    {
     "data": {
      "image/png": "[encoded data removed]",
      "text/plain": [
       "<Figure size 360x360 with 1 Axes>"
      ]
     },
     "metadata": {},
     "output_type": "display_data"
    }
   ],
   "source": [
    "sn.displot(data=dt, x=\"priors_count\", kind=\"hist\", bins=20)"
   ]
  },
  {
   "cell_type": "code",
   "execution_count": 16,
   "id": "796a836b-0a31-45cf-bc8d-15b2fe20b280",
   "metadata": {},
   "outputs": [
    {
     "data": {
      "text/plain": [
       "<seaborn.axisgrid.FacetGrid at 0x1b675d39e20>"
      ]
     },
     "execution_count": 16,
     "metadata": {},
     "output_type": "execute_result"
    },
    {
     "data": {
      "image/png": "[encoded data removed]",
      "text/plain": [
       "<Figure size 360x360 with 1 Axes>"
      ]
     },
     "metadata": {},
     "output_type": "display_data"
    }
   ],
   "source": [
    "sn.displot(data=dt, x=\"decile_score\", kind=\"hist\", bins=20)"
   ]
  },
  {
   "cell_type": "code",
   "execution_count": 17,
   "id": "02ba4963-522d-46c4-bcae-ef52f0c43cf3",
   "metadata": {},
   "outputs": [
    {
     "data": {
      "text/plain": [
       "<seaborn.axisgrid.FacetGrid at 0x1b675eee040>"
      ]
     },
     "execution_count": 17,
     "metadata": {},
     "output_type": "execute_result"
    },
    {
     "data": {
      "image/png": "[encoded data removed]",
      "text/plain": [
       "<Figure size 360x360 with 1 Axes>"
      ]
     },
     "metadata": {},
     "output_type": "display_data"
    }
   ],
   "source": [
    "sn.displot(data=dt, x=\"v_decile_score\", kind=\"hist\", bins=20)"
   ]
  },
  {
   "cell_type": "markdown",
   "id": "b40238ac-78b0-46f2-b17b-faf812047929",
   "metadata": {},
   "source": [
    "## There is correlation between the attributes and the target (class label)"
   ]
  },
  {
   "cell_type": "code",
   "execution_count": 13,
   "id": "a9e6d00f-1650-41b3-a56b-76bb363d3d27",
   "metadata": {},
   "outputs": [
    {
     "data": {
      "image/png": "[encoded data removed]",
      "text/plain": [
       "<Figure size 432x288 with 1 Axes>"
      ]
     },
     "metadata": {},
     "output_type": "display_data"
    }
   ],
   "source": [
    "dt['is_recid'].value_counts().plot(kind = 'bar')\n",
    "plt.show()"
   ]
  },
  {
   "cell_type": "code",
   "execution_count": 18,
   "id": "1bde529d-30d8-4650-a131-3446d2d614ae",
   "metadata": {},
   "outputs": [
    {
     "data": {
      "image/png": "[encoded data removed]",
      "text/plain": [
       "<Figure size 432x288 with 1 Axes>"
      ]
     },
     "metadata": {},
     "output_type": "display_data"
    }
   ],
   "source": [
    "dt['is_violent_recid'].value_counts().plot(kind = 'bar')\n",
    "plt.show()"
   ]
  },
  {
   "cell_type": "code",
   "execution_count": 14,
   "id": "12219ef8-6441-4948-8891-540e65fbcb4a",
   "metadata": {},
   "outputs": [],
   "source": [
    "#sn.pairplot(new_dt, hue = 'is_recid')\n",
    "#plt.show()"
   ]
  }
 ],
 "metadata": {
  "kernelspec": {
   "display_name": "Python 3 (ipykernel)",
   "language": "python",
   "name": "python3"
  },
  "language_info": {
   "codemirror_mode": {
    "name": "ipython",
    "version": 3
   },
   "file_extension": ".py",
   "mimetype": "text/x-python",
   "name": "python",
   "nbconvert_exporter": "python",
   "pygments_lexer": "ipython3",
   "version": "3.8.3"
  }
 },
 "nbformat": 4,
 "nbformat_minor": 5
}
