{
 "cells": [
  {
   "cell_type": "markdown",
   "id": "3d2e2933-d370-46b5-968d-2cf6672ee6d7",
   "metadata": {},
   "source": [
    "# Modeling Phase"
   ]
  },
  {
   "cell_type": "markdown",
   "id": "ed75de93-4025-4269-8aad-9732d3091940",
   "metadata": {},
   "source": [
    "### Load Python modules"
   ]
  },
  {
   "cell_type": "code",
   "execution_count": 1,
   "id": "146f937f-fd4f-44c6-b7da-e5f1cdddc6cf",
   "metadata": {},
   "outputs": [],
   "source": [
    "import pandas as pd\n",
    "import numpy as np\n",
    "from datetime import datetime\n",
    "import matplotlib.pyplot as plt\n",
    "import seaborn as sn\n",
    "from sklearn.model_selection import train_test_split\n",
    "from sklearn import preprocessing\n",
    "from sklearn import metrics\n",
    "\n",
    "plt.style.use('ggplot')"
   ]
  },
  {
   "cell_type": "code",
   "execution_count": 2,
   "id": "e1dfb747-00ab-4185-9b73-cdce9b805224",
   "metadata": {},
   "outputs": [
    {
     "data": {
      "text/html": [
       "<div>\n",
       "<style scoped>\n",
       "    .dataframe tbody tr th:only-of-type {\n",
       "        vertical-align: middle;\n",
       "    }\n",
       "\n",
       "    .dataframe tbody tr th {\n",
       "        vertical-align: top;\n",
       "    }\n",
       "\n",
       "    .dataframe thead th {\n",
       "        text-align: right;\n",
       "    }\n",
       "</style>\n",
       "<table border=\"1\" class=\"dataframe\">\n",
       "  <thead>\n",
       "    <tr style=\"text-align: right;\">\n",
       "      <th></th>\n",
       "      <th>age_cat</th>\n",
       "      <th>ethnicity</th>\n",
       "      <th>is_recid</th>\n",
       "      <th>score_text</th>\n",
       "      <th>sex</th>\n",
       "    </tr>\n",
       "  </thead>\n",
       "  <tbody>\n",
       "    <tr>\n",
       "      <th>0</th>\n",
       "      <td>senior</td>\n",
       "      <td>Other</td>\n",
       "      <td>0</td>\n",
       "      <td>Low</td>\n",
       "      <td>Male</td>\n",
       "    </tr>\n",
       "    <tr>\n",
       "      <th>1</th>\n",
       "      <td>adult</td>\n",
       "      <td>African-American</td>\n",
       "      <td>1</td>\n",
       "      <td>Low</td>\n",
       "      <td>Male</td>\n",
       "    </tr>\n",
       "    <tr>\n",
       "      <th>2</th>\n",
       "      <td>young</td>\n",
       "      <td>African-American</td>\n",
       "      <td>1</td>\n",
       "      <td>Low</td>\n",
       "      <td>Male</td>\n",
       "    </tr>\n",
       "    <tr>\n",
       "      <th>3</th>\n",
       "      <td>young</td>\n",
       "      <td>African-American</td>\n",
       "      <td>0</td>\n",
       "      <td>High</td>\n",
       "      <td>Male</td>\n",
       "    </tr>\n",
       "    <tr>\n",
       "      <th>4</th>\n",
       "      <td>adult</td>\n",
       "      <td>Other</td>\n",
       "      <td>0</td>\n",
       "      <td>Low</td>\n",
       "      <td>Male</td>\n",
       "    </tr>\n",
       "    <tr>\n",
       "      <th>...</th>\n",
       "      <td>...</td>\n",
       "      <td>...</td>\n",
       "      <td>...</td>\n",
       "      <td>...</td>\n",
       "      <td>...</td>\n",
       "    </tr>\n",
       "    <tr>\n",
       "      <th>11022</th>\n",
       "      <td>senior</td>\n",
       "      <td>Other</td>\n",
       "      <td>0</td>\n",
       "      <td>Low</td>\n",
       "      <td>Male</td>\n",
       "    </tr>\n",
       "    <tr>\n",
       "      <th>11023</th>\n",
       "      <td>young</td>\n",
       "      <td>Caucasian</td>\n",
       "      <td>1</td>\n",
       "      <td>Medium</td>\n",
       "      <td>Male</td>\n",
       "    </tr>\n",
       "    <tr>\n",
       "      <th>11024</th>\n",
       "      <td>adult</td>\n",
       "      <td>Other</td>\n",
       "      <td>0</td>\n",
       "      <td>Low</td>\n",
       "      <td>Male</td>\n",
       "    </tr>\n",
       "    <tr>\n",
       "      <th>11025</th>\n",
       "      <td>adult</td>\n",
       "      <td>Caucasian</td>\n",
       "      <td>0</td>\n",
       "      <td>Low</td>\n",
       "      <td>Male</td>\n",
       "    </tr>\n",
       "    <tr>\n",
       "      <th>11026</th>\n",
       "      <td>adult</td>\n",
       "      <td>Asian</td>\n",
       "      <td>0</td>\n",
       "      <td>Low</td>\n",
       "      <td>Male</td>\n",
       "    </tr>\n",
       "  </tbody>\n",
       "</table>\n",
       "<p>11027 rows × 5 columns</p>\n",
       "</div>"
      ],
      "text/plain": [
       "      age_cat         ethnicity  is_recid score_text   sex\n",
       "0      senior             Other         0        Low  Male\n",
       "1       adult  African-American         1        Low  Male\n",
       "2       young  African-American         1        Low  Male\n",
       "3       young  African-American         0       High  Male\n",
       "4       adult             Other         0        Low  Male\n",
       "...       ...               ...       ...        ...   ...\n",
       "11022  senior             Other         0        Low  Male\n",
       "11023   young         Caucasian         1     Medium  Male\n",
       "11024   adult             Other         0        Low  Male\n",
       "11025   adult         Caucasian         0        Low  Male\n",
       "11026   adult             Asian         0        Low  Male\n",
       "\n",
       "[11027 rows x 5 columns]"
      ]
     },
     "execution_count": 2,
     "metadata": {},
     "output_type": "execute_result"
    }
   ],
   "source": [
    "dt_cleaned = pd.read_csv('dt_cleaned.csv', sep=',')\n",
    "dt_cleaned"
   ]
  },
  {
   "cell_type": "code",
   "execution_count": 3,
   "id": "6f35bf12-9961-4419-ad71-13395e52de48",
   "metadata": {},
   "outputs": [
    {
     "data": {
      "text/html": [
       "<div>\n",
       "<style scoped>\n",
       "    .dataframe tbody tr th:only-of-type {\n",
       "        vertical-align: middle;\n",
       "    }\n",
       "\n",
       "    .dataframe tbody tr th {\n",
       "        vertical-align: top;\n",
       "    }\n",
       "\n",
       "    .dataframe thead th {\n",
       "        text-align: right;\n",
       "    }\n",
       "</style>\n",
       "<table border=\"1\" class=\"dataframe\">\n",
       "  <thead>\n",
       "    <tr style=\"text-align: right;\">\n",
       "      <th></th>\n",
       "      <th>age_cat</th>\n",
       "      <th>ethnicity</th>\n",
       "      <th>is_violent_recid</th>\n",
       "      <th>sex</th>\n",
       "      <th>v_score_text</th>\n",
       "    </tr>\n",
       "  </thead>\n",
       "  <tbody>\n",
       "    <tr>\n",
       "      <th>0</th>\n",
       "      <td>adult</td>\n",
       "      <td>African-American</td>\n",
       "      <td>1</td>\n",
       "      <td>Male</td>\n",
       "      <td>Low</td>\n",
       "    </tr>\n",
       "    <tr>\n",
       "      <th>1</th>\n",
       "      <td>young</td>\n",
       "      <td>African-American</td>\n",
       "      <td>0</td>\n",
       "      <td>Male</td>\n",
       "      <td>Low</td>\n",
       "    </tr>\n",
       "    <tr>\n",
       "      <th>2</th>\n",
       "      <td>adult</td>\n",
       "      <td>Caucasian</td>\n",
       "      <td>0</td>\n",
       "      <td>Male</td>\n",
       "      <td>Low</td>\n",
       "    </tr>\n",
       "    <tr>\n",
       "      <th>3</th>\n",
       "      <td>young</td>\n",
       "      <td>Caucasian</td>\n",
       "      <td>1</td>\n",
       "      <td>Male</td>\n",
       "      <td>Medium</td>\n",
       "    </tr>\n",
       "    <tr>\n",
       "      <th>4</th>\n",
       "      <td>young</td>\n",
       "      <td>African-American</td>\n",
       "      <td>0</td>\n",
       "      <td>Male</td>\n",
       "      <td>Low</td>\n",
       "    </tr>\n",
       "    <tr>\n",
       "      <th>...</th>\n",
       "      <td>...</td>\n",
       "      <td>...</td>\n",
       "      <td>...</td>\n",
       "      <td>...</td>\n",
       "      <td>...</td>\n",
       "    </tr>\n",
       "    <tr>\n",
       "      <th>3696</th>\n",
       "      <td>young</td>\n",
       "      <td>Caucasian</td>\n",
       "      <td>0</td>\n",
       "      <td>Female</td>\n",
       "      <td>Low</td>\n",
       "    </tr>\n",
       "    <tr>\n",
       "      <th>3697</th>\n",
       "      <td>adult</td>\n",
       "      <td>Caucasian</td>\n",
       "      <td>0</td>\n",
       "      <td>Male</td>\n",
       "      <td>Low</td>\n",
       "    </tr>\n",
       "    <tr>\n",
       "      <th>3698</th>\n",
       "      <td>young</td>\n",
       "      <td>African-American</td>\n",
       "      <td>0</td>\n",
       "      <td>Male</td>\n",
       "      <td>Medium</td>\n",
       "    </tr>\n",
       "    <tr>\n",
       "      <th>3699</th>\n",
       "      <td>senior</td>\n",
       "      <td>African-American</td>\n",
       "      <td>0</td>\n",
       "      <td>Male</td>\n",
       "      <td>Low</td>\n",
       "    </tr>\n",
       "    <tr>\n",
       "      <th>3700</th>\n",
       "      <td>young</td>\n",
       "      <td>Caucasian</td>\n",
       "      <td>0</td>\n",
       "      <td>Male</td>\n",
       "      <td>Medium</td>\n",
       "    </tr>\n",
       "  </tbody>\n",
       "</table>\n",
       "<p>3701 rows × 5 columns</p>\n",
       "</div>"
      ],
      "text/plain": [
       "     age_cat         ethnicity  is_violent_recid     sex v_score_text\n",
       "0      adult  African-American                 1    Male          Low\n",
       "1      young  African-American                 0    Male          Low\n",
       "2      adult         Caucasian                 0    Male          Low\n",
       "3      young         Caucasian                 1    Male       Medium\n",
       "4      young  African-American                 0    Male          Low\n",
       "...      ...               ...               ...     ...          ...\n",
       "3696   young         Caucasian                 0  Female          Low\n",
       "3697   adult         Caucasian                 0    Male          Low\n",
       "3698   young  African-American                 0    Male       Medium\n",
       "3699  senior  African-American                 0    Male          Low\n",
       "3700   young         Caucasian                 0    Male       Medium\n",
       "\n",
       "[3701 rows x 5 columns]"
      ]
     },
     "execution_count": 3,
     "metadata": {},
     "output_type": "execute_result"
    }
   ],
   "source": [
    "dt_cleaned_v = pd.read_csv('dt_cleaned_v.csv', sep=',')\n",
    "dt_cleaned_v"
   ]
  },
  {
   "cell_type": "code",
   "execution_count": 4,
   "id": "2da2e4f9-a8f2-499d-b50d-a38e229a6072",
   "metadata": {},
   "outputs": [
    {
     "data": {
      "text/html": [
       "<div>\n",
       "<style scoped>\n",
       "    .dataframe tbody tr th:only-of-type {\n",
       "        vertical-align: middle;\n",
       "    }\n",
       "\n",
       "    .dataframe tbody tr th {\n",
       "        vertical-align: top;\n",
       "    }\n",
       "\n",
       "    .dataframe thead th {\n",
       "        text-align: right;\n",
       "    }\n",
       "</style>\n",
       "<table border=\"1\" class=\"dataframe\">\n",
       "  <thead>\n",
       "    <tr style=\"text-align: right;\">\n",
       "      <th></th>\n",
       "      <th>age_cat</th>\n",
       "      <th>dates_diff_in_days</th>\n",
       "      <th>ethnicity</th>\n",
       "      <th>score_text</th>\n",
       "      <th>sex</th>\n",
       "    </tr>\n",
       "  </thead>\n",
       "  <tbody>\n",
       "    <tr>\n",
       "      <th>0</th>\n",
       "      <td>adult</td>\n",
       "      <td>160</td>\n",
       "      <td>African-American</td>\n",
       "      <td>Low</td>\n",
       "      <td>Male</td>\n",
       "    </tr>\n",
       "    <tr>\n",
       "      <th>1</th>\n",
       "      <td>young</td>\n",
       "      <td>64</td>\n",
       "      <td>African-American</td>\n",
       "      <td>Low</td>\n",
       "      <td>Male</td>\n",
       "    </tr>\n",
       "    <tr>\n",
       "      <th>2</th>\n",
       "      <td>adult</td>\n",
       "      <td>41</td>\n",
       "      <td>Caucasian</td>\n",
       "      <td>Medium</td>\n",
       "      <td>Male</td>\n",
       "    </tr>\n",
       "    <tr>\n",
       "      <th>3</th>\n",
       "      <td>young</td>\n",
       "      <td>736</td>\n",
       "      <td>Caucasian</td>\n",
       "      <td>Low</td>\n",
       "      <td>Male</td>\n",
       "    </tr>\n",
       "    <tr>\n",
       "      <th>4</th>\n",
       "      <td>young</td>\n",
       "      <td>128</td>\n",
       "      <td>African-American</td>\n",
       "      <td>Medium</td>\n",
       "      <td>Male</td>\n",
       "    </tr>\n",
       "    <tr>\n",
       "      <th>...</th>\n",
       "      <td>...</td>\n",
       "      <td>...</td>\n",
       "      <td>...</td>\n",
       "      <td>...</td>\n",
       "      <td>...</td>\n",
       "    </tr>\n",
       "    <tr>\n",
       "      <th>3088</th>\n",
       "      <td>senior</td>\n",
       "      <td>286</td>\n",
       "      <td>African-American</td>\n",
       "      <td>Medium</td>\n",
       "      <td>Male</td>\n",
       "    </tr>\n",
       "    <tr>\n",
       "      <th>3089</th>\n",
       "      <td>young</td>\n",
       "      <td>296</td>\n",
       "      <td>Caucasian</td>\n",
       "      <td>Low</td>\n",
       "      <td>Female</td>\n",
       "    </tr>\n",
       "    <tr>\n",
       "      <th>3090</th>\n",
       "      <td>young</td>\n",
       "      <td>9</td>\n",
       "      <td>African-American</td>\n",
       "      <td>Low</td>\n",
       "      <td>Male</td>\n",
       "    </tr>\n",
       "    <tr>\n",
       "      <th>3091</th>\n",
       "      <td>senior</td>\n",
       "      <td>30</td>\n",
       "      <td>African-American</td>\n",
       "      <td>Low</td>\n",
       "      <td>Male</td>\n",
       "    </tr>\n",
       "    <tr>\n",
       "      <th>3092</th>\n",
       "      <td>young</td>\n",
       "      <td>513</td>\n",
       "      <td>Caucasian</td>\n",
       "      <td>Medium</td>\n",
       "      <td>Male</td>\n",
       "    </tr>\n",
       "  </tbody>\n",
       "</table>\n",
       "<p>3093 rows × 5 columns</p>\n",
       "</div>"
      ],
      "text/plain": [
       "     age_cat  dates_diff_in_days         ethnicity score_text     sex\n",
       "0      adult                 160  African-American        Low    Male\n",
       "1      young                  64  African-American        Low    Male\n",
       "2      adult                  41         Caucasian     Medium    Male\n",
       "3      young                 736         Caucasian        Low    Male\n",
       "4      young                 128  African-American     Medium    Male\n",
       "...      ...                 ...               ...        ...     ...\n",
       "3088  senior                 286  African-American     Medium    Male\n",
       "3089   young                 296         Caucasian        Low  Female\n",
       "3090   young                   9  African-American        Low    Male\n",
       "3091  senior                  30  African-American        Low    Male\n",
       "3092   young                 513         Caucasian     Medium    Male\n",
       "\n",
       "[3093 rows x 5 columns]"
      ]
     },
     "execution_count": 4,
     "metadata": {},
     "output_type": "execute_result"
    }
   ],
   "source": [
    "dt_date_r = pd.read_csv('dt_date_r.csv', sep=',')\n",
    "dt_date_r"
   ]
  },
  {
   "cell_type": "code",
   "execution_count": 5,
   "id": "bcb58f55-6285-44b3-8df0-7f061f030a6d",
   "metadata": {},
   "outputs": [
    {
     "data": {
      "text/html": [
       "<div>\n",
       "<style scoped>\n",
       "    .dataframe tbody tr th:only-of-type {\n",
       "        vertical-align: middle;\n",
       "    }\n",
       "\n",
       "    .dataframe tbody tr th {\n",
       "        vertical-align: top;\n",
       "    }\n",
       "\n",
       "    .dataframe thead th {\n",
       "        text-align: right;\n",
       "    }\n",
       "</style>\n",
       "<table border=\"1\" class=\"dataframe\">\n",
       "  <thead>\n",
       "    <tr style=\"text-align: right;\">\n",
       "      <th></th>\n",
       "      <th>age_cat</th>\n",
       "      <th>dates_diff_in_days</th>\n",
       "      <th>ethnicity</th>\n",
       "      <th>sex</th>\n",
       "      <th>v_score_text</th>\n",
       "    </tr>\n",
       "  </thead>\n",
       "  <tbody>\n",
       "    <tr>\n",
       "      <th>0</th>\n",
       "      <td>adult</td>\n",
       "      <td>160</td>\n",
       "      <td>African-American</td>\n",
       "      <td>Male</td>\n",
       "      <td>Low</td>\n",
       "    </tr>\n",
       "    <tr>\n",
       "      <th>1</th>\n",
       "      <td>young</td>\n",
       "      <td>736</td>\n",
       "      <td>Caucasian</td>\n",
       "      <td>Male</td>\n",
       "      <td>Medium</td>\n",
       "    </tr>\n",
       "    <tr>\n",
       "      <th>2</th>\n",
       "      <td>adult</td>\n",
       "      <td>242</td>\n",
       "      <td>Caucasian</td>\n",
       "      <td>Male</td>\n",
       "      <td>Low</td>\n",
       "    </tr>\n",
       "    <tr>\n",
       "      <th>3</th>\n",
       "      <td>adult</td>\n",
       "      <td>659</td>\n",
       "      <td>African-American</td>\n",
       "      <td>Male</td>\n",
       "      <td>Low</td>\n",
       "    </tr>\n",
       "    <tr>\n",
       "      <th>4</th>\n",
       "      <td>adult</td>\n",
       "      <td>296</td>\n",
       "      <td>African-American</td>\n",
       "      <td>Male</td>\n",
       "      <td>Medium</td>\n",
       "    </tr>\n",
       "    <tr>\n",
       "      <th>...</th>\n",
       "      <td>...</td>\n",
       "      <td>...</td>\n",
       "      <td>...</td>\n",
       "      <td>...</td>\n",
       "      <td>...</td>\n",
       "    </tr>\n",
       "    <tr>\n",
       "      <th>723</th>\n",
       "      <td>young</td>\n",
       "      <td>217</td>\n",
       "      <td>African-American</td>\n",
       "      <td>Male</td>\n",
       "      <td>Medium</td>\n",
       "    </tr>\n",
       "    <tr>\n",
       "      <th>724</th>\n",
       "      <td>adult</td>\n",
       "      <td>252</td>\n",
       "      <td>African-American</td>\n",
       "      <td>Male</td>\n",
       "      <td>Low</td>\n",
       "    </tr>\n",
       "    <tr>\n",
       "      <th>725</th>\n",
       "      <td>adult</td>\n",
       "      <td>926</td>\n",
       "      <td>African-American</td>\n",
       "      <td>Male</td>\n",
       "      <td>Medium</td>\n",
       "    </tr>\n",
       "    <tr>\n",
       "      <th>726</th>\n",
       "      <td>senior</td>\n",
       "      <td>741</td>\n",
       "      <td>African-American</td>\n",
       "      <td>Male</td>\n",
       "      <td>High</td>\n",
       "    </tr>\n",
       "    <tr>\n",
       "      <th>727</th>\n",
       "      <td>adult</td>\n",
       "      <td>337</td>\n",
       "      <td>Caucasian</td>\n",
       "      <td>Male</td>\n",
       "      <td>Low</td>\n",
       "    </tr>\n",
       "  </tbody>\n",
       "</table>\n",
       "<p>728 rows × 5 columns</p>\n",
       "</div>"
      ],
      "text/plain": [
       "    age_cat  dates_diff_in_days         ethnicity   sex v_score_text\n",
       "0     adult                 160  African-American  Male          Low\n",
       "1     young                 736         Caucasian  Male       Medium\n",
       "2     adult                 242         Caucasian  Male          Low\n",
       "3     adult                 659  African-American  Male          Low\n",
       "4     adult                 296  African-American  Male       Medium\n",
       "..      ...                 ...               ...   ...          ...\n",
       "723   young                 217  African-American  Male       Medium\n",
       "724   adult                 252  African-American  Male          Low\n",
       "725   adult                 926  African-American  Male       Medium\n",
       "726  senior                 741  African-American  Male         High\n",
       "727   adult                 337         Caucasian  Male          Low\n",
       "\n",
       "[728 rows x 5 columns]"
      ]
     },
     "execution_count": 5,
     "metadata": {},
     "output_type": "execute_result"
    }
   ],
   "source": [
    "dt_date_v = pd.read_csv('dt_date_v.csv', sep=',')\n",
    "dt_date_v"
   ]
  },
  {
   "cell_type": "markdown",
   "id": "01da389a-79a0-459b-9e70-b58c1270b0fb",
   "metadata": {},
   "source": [
    "### Check Attribute types"
   ]
  },
  {
   "cell_type": "code",
   "execution_count": 6,
   "id": "88940015-cede-4ff8-bec8-287d71231e72",
   "metadata": {},
   "outputs": [
    {
     "name": "stdout",
     "output_type": "stream",
     "text": [
      "<class 'pandas.core.frame.DataFrame'>\n",
      "RangeIndex: 11027 entries, 0 to 11026\n",
      "Data columns (total 5 columns):\n",
      " #   Column      Non-Null Count  Dtype \n",
      "---  ------      --------------  ----- \n",
      " 0   age_cat     11027 non-null  object\n",
      " 1   ethnicity   11027 non-null  object\n",
      " 2   is_recid    11027 non-null  int64 \n",
      " 3   score_text  11027 non-null  object\n",
      " 4   sex         11027 non-null  object\n",
      "dtypes: int64(1), object(4)\n",
      "memory usage: 430.9+ KB\n"
     ]
    }
   ],
   "source": [
    "dt_cleaned.info()"
   ]
  },
  {
   "cell_type": "code",
   "execution_count": 7,
   "id": "9463a626-77a9-4898-b155-b917591192d3",
   "metadata": {},
   "outputs": [
    {
     "name": "stdout",
     "output_type": "stream",
     "text": [
      "<class 'pandas.core.frame.DataFrame'>\n",
      "RangeIndex: 11027 entries, 0 to 11026\n",
      "Data columns (total 5 columns):\n",
      " #   Column      Non-Null Count  Dtype   \n",
      "---  ------      --------------  -----   \n",
      " 0   age_cat     11027 non-null  category\n",
      " 1   ethnicity   11027 non-null  category\n",
      " 2   is_recid    11027 non-null  int64   \n",
      " 3   score_text  11027 non-null  category\n",
      " 4   sex         11027 non-null  category\n",
      "dtypes: category(4), int64(1)\n",
      "memory usage: 129.9 KB\n"
     ]
    }
   ],
   "source": [
    "dt_cleaned['age_cat'] = dt_cleaned['age_cat'].astype('category')\n",
    "dt_cleaned['ethnicity'] = dt_cleaned['ethnicity'].astype('category')\n",
    "dt_cleaned['score_text'] = dt_cleaned['score_text'].astype('category')\n",
    "dt_cleaned['sex'] = dt_cleaned['sex'].astype('category')\n",
    "dt_cleaned.info()"
   ]
  },
  {
   "cell_type": "markdown",
   "id": "43dd47ae-daa4-4fff-8d35-6862dbf1ffa2",
   "metadata": {},
   "source": [
    "#### Add dummies instead of categorical attributes"
   ]
  },
  {
   "cell_type": "code",
   "execution_count": 8,
   "id": "9969e5b3-ab04-40fd-b7f1-eaaaf48e7ad3",
   "metadata": {},
   "outputs": [],
   "source": [
    "number = preprocessing.LabelEncoder()\n",
    "for attribute in dt_cleaned.columns:\n",
    "    if dt_cleaned[attribute].dtype.name == \"category\":\n",
    "        dt_cleaned[attribute] = number.fit_transform(dt_cleaned[attribute])"
   ]
  },
  {
   "cell_type": "markdown",
   "id": "26ad0162-fd7e-473d-8d21-9a153640500e",
   "metadata": {},
   "source": [
    "### Check if the dataset is balanced"
   ]
  },
  {
   "cell_type": "code",
   "execution_count": 9,
   "id": "3adbbcf7-8809-4fc9-8c76-aba37219c473",
   "metadata": {},
   "outputs": [
    {
     "data": {
      "text/plain": [
       "0    7326\n",
       "1    3701\n",
       "Name: is_recid, dtype: int64"
      ]
     },
     "execution_count": 9,
     "metadata": {},
     "output_type": "execute_result"
    }
   ],
   "source": [
    "dt_cleaned['is_recid'].value_counts()"
   ]
  },
  {
   "cell_type": "markdown",
   "id": "e7e34939-a025-4639-92c1-6071598a6893",
   "metadata": {},
   "source": [
    "Resample Algorithm is needed."
   ]
  },
  {
   "cell_type": "markdown",
   "id": "1797c030-6887-4f9d-9b0a-c06ae5516e54",
   "metadata": {},
   "source": [
    "### Split Dataset into Training Set and Test Set"
   ]
  },
  {
   "cell_type": "code",
   "execution_count": 10,
   "id": "c1523f28-a709-4dec-ae30-ee2e5a2cfda6",
   "metadata": {},
   "outputs": [],
   "source": [
    "X = dt_cleaned.drop('is_recid', axis=1)\n",
    "y = dt_cleaned['is_recid']\n",
    "\n",
    "seed = 121\n",
    "test_size= 0.25\n",
    "# 75% train set, 25% test set\n",
    "\n",
    "X_train, X_test, y_train, y_test = train_test_split(X, y, test_size=test_size, random_state=seed)\n",
    "\n",
    "training_set = pd.concat([X_train, y_train], axis=1)\n",
    "recid = training_set[training_set.is_recid==1]\n",
    "not_recid = training_set[training_set.is_recid==0]"
   ]
  },
  {
   "cell_type": "code",
   "execution_count": 11,
   "id": "1e4a6787-2508-4608-baf2-249c7ca12e4e",
   "metadata": {},
   "outputs": [
    {
     "data": {
      "text/plain": [
       "(2776, 5)"
      ]
     },
     "execution_count": 11,
     "metadata": {},
     "output_type": "execute_result"
    }
   ],
   "source": [
    "recid.shape"
   ]
  },
  {
   "cell_type": "code",
   "execution_count": 12,
   "id": "c13488a7-26db-408c-aaa1-e0f480218a81",
   "metadata": {},
   "outputs": [
    {
     "data": {
      "text/plain": [
       "(5494, 5)"
      ]
     },
     "execution_count": 12,
     "metadata": {},
     "output_type": "execute_result"
    }
   ],
   "source": [
    "not_recid.shape"
   ]
  },
  {
   "cell_type": "markdown",
   "id": "9fc7fb27-8b27-4732-b56c-0156cdd77976",
   "metadata": {},
   "source": [
    "#### Perform Undersampling"
   ]
  },
  {
   "cell_type": "code",
   "execution_count": 13,
   "id": "096b09d2-f74b-4033-8a09-1c7410acd0b3",
   "metadata": {},
   "outputs": [],
   "source": [
    "from sklearn.utils import resample"
   ]
  },
  {
   "cell_type": "code",
   "execution_count": 27,
   "id": "cfdc451d-539c-4f40-bbd5-18cc3f54ec0a",
   "metadata": {},
   "outputs": [],
   "source": [
    "not_recid_resampled = resample(not_recid, replace = True, n_samples=int(len(recid)), random_state=seed) #n_samples=int(len(recid)*1.3\n",
    "\n",
    "dt_resampled = pd.concat([recid, not_recid_resampled])\n",
    "\n",
    "X_train = dt_resampled.drop(\"is_recid\", axis=1)\n",
    "y_train = dt_resampled['is_recid']"
   ]
  },
  {
   "cell_type": "code",
   "execution_count": 28,
   "id": "eb7ab9ae-7ddd-44db-ac98-4870674041f2",
   "metadata": {},
   "outputs": [
    {
     "data": {
      "text/plain": [
       "1    2776\n",
       "0    2776\n",
       "Name: is_recid, dtype: int64"
      ]
     },
     "execution_count": 28,
     "metadata": {},
     "output_type": "execute_result"
    }
   ],
   "source": [
    "dt_resampled.is_recid.value_counts()"
   ]
  },
  {
   "cell_type": "markdown",
   "id": "80b807e8-5033-4cc7-ba07-1c2c2f52b57d",
   "metadata": {},
   "source": [
    "#### Build different models and evaluate them using three metrics: *accuracy*, *recall* and *precision*"
   ]
  },
  {
   "cell_type": "code",
   "execution_count": 29,
   "id": "7d3ddd7d-773e-4b63-8ea5-9ef56aeab68e",
   "metadata": {},
   "outputs": [],
   "source": [
    "from sklearn.ensemble import RandomForestClassifier, AdaBoostClassifier\n",
    "from sklearn.naive_bayes import GaussianNB\n",
    "from sklearn import metrics\n",
    "from sklearn.tree import DecisionTreeClassifier\n",
    "from sklearn.neighbors import KNeighborsClassifier\n",
    "from sklearn.svm import SVC\n",
    "from sklearn.gaussian_process import GaussianProcessClassifier\n",
    "from sklearn.gaussian_process.kernels import RBF\n",
    "from sklearn.naive_bayes import GaussianNB"
   ]
  },
  {
   "cell_type": "markdown",
   "id": "e31405a0-a723-49b8-8409-cfd3254ab861",
   "metadata": {},
   "source": [
    "#### Find the best parameters"
   ]
  },
  {
   "cell_type": "markdown",
   "id": "901d1836-f0ba-4cdb-9436-0306ecc7fd78",
   "metadata": {},
   "source": [
    "##### Decision Tree"
   ]
  },
  {
   "cell_type": "code",
   "execution_count": 30,
   "id": "e164b748-44cc-44c2-852d-4ca99ea19327",
   "metadata": {},
   "outputs": [
    {
     "name": "stdout",
     "output_type": "stream",
     "text": [
      "Fitting 5 folds for each of 576 candidates, totalling 2880 fits\n",
      "{'criterion': 'gini', 'max_depth': None, 'max_leaf_nodes': 15, 'random_state': 5, 'splitter': 'random'}\n"
     ]
    }
   ],
   "source": [
    "from sklearn.model_selection import GridSearchCV\n",
    "\n",
    "params = {\n",
    "    'criterion':  ['gini', 'entropy'],\n",
    "    'splitter': ['best', 'random'],\n",
    "    'max_depth':  [None, 2, 4, 6, 8, 10],\n",
    "    'max_leaf_nodes': [None, 5, 10, 15],\n",
    "    'random_state': [None, 1, 2, 3, 4, 5]\n",
    "}\n",
    "\n",
    "clf = GridSearchCV(\n",
    "    estimator=DecisionTreeClassifier(),\n",
    "    param_grid=params,\n",
    "    cv=5,\n",
    "    n_jobs=5,\n",
    "    verbose=1,\n",
    ")\n",
    "\n",
    "clf.fit(X_train, y_train)\n",
    "print(clf.best_params_)"
   ]
  },
  {
   "cell_type": "code",
   "execution_count": 31,
   "id": "e17ebe32-4685-4c3f-92fb-0cfd445001ea",
   "metadata": {},
   "outputs": [
    {
     "name": "stdout",
     "output_type": "stream",
     "text": [
      "Fitting 5 folds for each of 5 candidates, totalling 25 fits\n",
      "{'n_neighbors': 2}\n"
     ]
    }
   ],
   "source": [
    "knn_params = {\n",
    "    'n_neighbors':  [1, 2, 3, 4, 5]\n",
    "}\n",
    "\n",
    "knn = GridSearchCV(\n",
    "    estimator=KNeighborsClassifier(),\n",
    "    param_grid=knn_params,\n",
    "    cv=5,\n",
    "    n_jobs=5,\n",
    "    verbose=1,\n",
    ")\n",
    "\n",
    "knn.fit(X_train, y_train)\n",
    "print(knn.best_params_)"
   ]
  },
  {
   "cell_type": "code",
   "execution_count": 32,
   "id": "25fd5a4a-86bc-4b64-b760-ece6c5c34a48",
   "metadata": {},
   "outputs": [
    {
     "name": "stdout",
     "output_type": "stream",
     "text": [
      "Fitting 5 folds for each of 5 candidates, totalling 25 fits\n",
      "{'random_state': 30}\n"
     ]
    }
   ],
   "source": [
    "rf_params = {\n",
    "    'random_state':  [10, 20, 30, 40, 50]\n",
    "}\n",
    "\n",
    "rf = GridSearchCV(\n",
    "    estimator=RandomForestClassifier(),\n",
    "    param_grid=rf_params,\n",
    "    cv=5,\n",
    "    n_jobs=5,\n",
    "    verbose=1,\n",
    ")\n",
    "\n",
    "rf.fit(X_train, y_train)\n",
    "print(rf.best_params_)"
   ]
  },
  {
   "cell_type": "code",
   "execution_count": 33,
   "id": "6da2c9c2-2b0f-4cb8-84d8-907d4a381683",
   "metadata": {},
   "outputs": [
    {
     "name": "stdout",
     "output_type": "stream",
     "text": [
      "Fitting 5 folds for each of 5 candidates, totalling 25 fits\n",
      "{'random_state': 110}\n"
     ]
    }
   ],
   "source": [
    "ab_params = {\n",
    "    'random_state':  [110, 120, 130, 140, 150]\n",
    "}\n",
    "\n",
    "ab = GridSearchCV(\n",
    "    estimator=AdaBoostClassifier(),\n",
    "    param_grid=ab_params,\n",
    "    cv=5,\n",
    "    n_jobs=5,\n",
    "    verbose=1,\n",
    ")\n",
    "\n",
    "ab.fit(X_train, y_train)\n",
    "print(ab.best_params_)"
   ]
  },
  {
   "cell_type": "code",
   "execution_count": 34,
   "id": "7463cdff-d322-4539-bc0f-981376387f70",
   "metadata": {},
   "outputs": [
    {
     "name": "stdout",
     "output_type": "stream",
     "text": [
      "Naive Bayes:\n",
      "\n",
      "Accuracy: 0.5934\n",
      "Recall: 0.6670\n",
      "Precision: 0.4315\n",
      "F-measure: 0.5240\n",
      "\n",
      "DecisionTreeClassifier:\n",
      "\n",
      "Accuracy: 0.6402\n",
      "Recall: 0.5816\n",
      "Precision: 0.4707\n",
      "F-measure: 0.5203\n",
      "\n",
      "KNeighborsClassifier:\n",
      "\n",
      "Accuracy: 0.3442\n",
      "Recall: 0.9903\n",
      "Precision: 0.3374\n",
      "F-measure: 0.5033\n",
      "\n",
      "Random Forest:\n",
      "\n",
      "Accuracy: 0.6380\n",
      "Recall: 0.6151\n",
      "Precision: 0.4699\n",
      "F-measure: 0.5328\n",
      "\n",
      "AdaBoost:\n",
      "\n",
      "Accuracy: 0.6369\n",
      "Recall: 0.5838\n",
      "Precision: 0.4671\n",
      "F-measure: 0.5190\n",
      "\n"
     ]
    }
   ],
   "source": [
    "models = []\n",
    "\n",
    "models.append((\"Naive Bayes\", GaussianNB()))\n",
    "models.append((\"DecisionTreeClassifier\", DecisionTreeClassifier(criterion=\"gini\", splitter=\"random\", random_state=5, max_depth=None, max_leaf_nodes=15)))\n",
    "models.append((\"KNeighborsClassifier\", KNeighborsClassifier(2)))\n",
    "models.append((\"Random Forest\", RandomForestClassifier(random_state=30)))\n",
    "models.append((\"AdaBoost\", AdaBoostClassifier(random_state=110)))\n",
    "\n",
    "for name, model in models:\n",
    "  model.fit(X_train, y_train)\n",
    "  predictions = model.predict(X_test)\n",
    "  print(f'{name}:\\n')\n",
    "  print(f'Accuracy: {metrics.accuracy_score(y_test, predictions):.4f}')\n",
    "  print(f'Recall: {metrics.recall_score(y_test, predictions):.4f}')\n",
    "  print(f'Precision: {metrics.precision_score(y_test, predictions):.4f}')\n",
    "  print(f'F-measure: {metrics.f1_score(y_test, predictions):.4f}\\n')"
   ]
  },
  {
   "cell_type": "code",
   "execution_count": null,
   "id": "3a197de8-4831-4c67-a0d4-0a8f44884d7e",
   "metadata": {},
   "outputs": [],
   "source": []
  }
 ],
 "metadata": {
  "kernelspec": {
   "display_name": "Python 3 (ipykernel)",
   "language": "python",
   "name": "python3"
  },
  "language_info": {
   "codemirror_mode": {
    "name": "ipython",
    "version": 3
   },
   "file_extension": ".py",
   "mimetype": "text/x-python",
   "name": "python",
   "nbconvert_exporter": "python",
   "pygments_lexer": "ipython3",
   "version": "3.8.3"
  }
 },
 "nbformat": 4,
 "nbformat_minor": 5
}
